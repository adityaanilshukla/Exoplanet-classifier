{
 "cells": [
  {
   "cell_type": "markdown",
   "metadata": {},
   "source": [
    "### import libraries"
   ]
  },
  {
   "cell_type": "code",
   "execution_count": 1,
   "metadata": {},
   "outputs": [],
   "source": [
    "import pandas as pd\n",
    "import numpy as np\n",
    "from sklearn.model_selection import train_test_split\n",
    "from sklearn.preprocessing import StandardScaler, LabelEncoder\n",
    "from imblearn.over_sampling import SMOTE\n",
    "import matplotlib.pyplot as plt\n",
    "from sklearn.impute import SimpleImputer"
   ]
  },
  {
   "cell_type": "code",
   "execution_count": 2,
   "metadata": {},
   "outputs": [],
   "source": [
    "# Load the dataset\n",
    "data = pd.read_csv(\"kaggle-exoplanets-dataset.csv\")"
   ]
  },
  {
   "cell_type": "markdown",
   "metadata": {},
   "source": [
    "## Data Cleaning Decisions: A Balancing Act\n",
    "\n",
    "Our initial dataset for this exoplanet analysis contained missing information in several key columns. While missing data is a common challenge in scientific exploration, we carefully considered the most effective approach for our purposes. After a thorough evaluation, I opted to remove rows with missing entries for the following reasons:\n",
    "\n",
    "Minimizing bias: Leaving missing values untreated can introduce bias into our analysis, potentially skewing our results and conclusions. Removing rows with missing information eliminates this risk, ensuring the integrity of our findings.\n",
    "\n",
    "Focus on complete data: Our analysis relies on understanding the relationships between various exoplanet characteristics. Missing values in any of these features would hinder our ability to accurately conclude. By focusing on complete data points, we gain a clearer picture of these relationships."
   ]
  },
  {
   "cell_type": "code",
   "execution_count": 3,
   "metadata": {},
   "outputs": [
    {
     "name": "stdout",
     "output_type": "stream",
     "text": [
      "Missing values in each column:\n",
      " name                   0\n",
      "distance              17\n",
      "stellar_magnitude    161\n",
      "planet_type            0\n",
      "discovery_year         0\n",
      "mass_multiplier       23\n",
      "mass_wrt              23\n",
      "radius_multiplier     17\n",
      "radius_wrt            17\n",
      "orbital_radius       289\n",
      "orbital_period         0\n",
      "eccentricity           0\n",
      "detection_method       0\n",
      "dtype: int64\n"
     ]
    }
   ],
   "source": [
    "# Check for missing values\n",
    "missing_values = data.isnull().sum()\n",
    "print(\"Missing values in each column:\\n\", missing_values)"
   ]
  },
  {
   "cell_type": "code",
   "execution_count": 4,
   "metadata": {},
   "outputs": [],
   "source": [
    "data = data.dropna()"
   ]
  },
  {
   "cell_type": "code",
   "execution_count": 5,
   "metadata": {},
   "outputs": [],
   "source": [
    "missing_columns = [\"distance\", \"stellar_magnitude\", \"mass_multiplier\", \"mass_wrt\", \"orbital_radius\",\"radius_wrt\",\"radius_multiplier\"]\n",
    "data = data.dropna(subset=missing_columns)"
   ]
  },
  {
   "cell_type": "code",
   "execution_count": 6,
   "metadata": {},
   "outputs": [
    {
     "name": "stdout",
     "output_type": "stream",
     "text": [
      "Missing values in each column after dropping:\n",
      " name                 0\n",
      "distance             0\n",
      "stellar_magnitude    0\n",
      "planet_type          0\n",
      "discovery_year       0\n",
      "mass_multiplier      0\n",
      "mass_wrt             0\n",
      "radius_multiplier    0\n",
      "radius_wrt           0\n",
      "orbital_radius       0\n",
      "orbital_period       0\n",
      "eccentricity         0\n",
      "detection_method     0\n",
      "dtype: int64\n"
     ]
    }
   ],
   "source": [
    "missing_values = data.isnull().sum()\n",
    "print(\"Missing values in each column after dropping:\\n\", missing_values)"
   ]
  },
  {
   "cell_type": "code",
   "execution_count": 7,
   "metadata": {},
   "outputs": [],
   "source": [
    "assert data.isnull().sum().sum() == 0, \"Missing values still present!\""
   ]
  },
  {
   "cell_type": "markdown",
   "metadata": {},
   "source": [
    "### Remove rows with planet type unknown"
   ]
  },
  {
   "cell_type": "code",
   "execution_count": 8,
   "metadata": {},
   "outputs": [],
   "source": [
    "# Remove rows with 'unknown' planet type\n",
    "data = data[data['planet_type'] != 'unknown']"
   ]
  },
  {
   "cell_type": "markdown",
   "metadata": {},
   "source": [
    "### Replace Earth measurements with Jupiter measurements"
   ]
  },
  {
   "cell_type": "code",
   "execution_count": 9,
   "metadata": {},
   "outputs": [],
   "source": [
    "# Convert mass and radius to Jupiter units\n",
    "earth_to_jupiter_mass = 1 / 317.83\n",
    "earth_to_jupiter_radius = 1 / 11.209\n",
    "\n",
    "# Replace Earth measurements with Jupiter measurements\n",
    "data.loc[data['mass_wrt'] == 'Earth', 'mass_multiplier'] *= earth_to_jupiter_mass\n",
    "data.loc[data['radius_wrt'] == 'Earth', 'radius_multiplier'] *= earth_to_jupiter_radius\n",
    "\n",
    "# Now we can drop the 'mass_wrt' and 'radius_wrt' columns as they are all in Jupiter units and not required anymore\n",
    "data.drop(['mass_wrt', 'radius_wrt'], axis=1, inplace=True)\n"
   ]
  },
  {
   "cell_type": "markdown",
   "metadata": {},
   "source": [
    "### logarithmic transformation\n",
    "\n",
    "Applying a logarithmic transformation to the 'orbital_radius' to reduce skewness. This transformation can help to stabilize the variance across the range of data, bring the data closer to a normal distribution, and make it easier for machine learning models to learn from the data. Since many models assume or perform better with normally distributed data, this preprocessing step can improve model accuracy and the ability to generalize."
   ]
  },
  {
   "cell_type": "code",
   "execution_count": 10,
   "metadata": {},
   "outputs": [],
   "source": [
    "# Apply log transformation to 'orbital_radius' to reduce skewness\n",
    "data['orbital_radius_log'] = np.log1p(data['orbital_radius'])\n",
    "\n",
    "# You can now drop the original 'orbital_radius' column if you won't use it anymore\n",
    "data.drop('orbital_radius', axis=1, inplace=True)"
   ]
  },
  {
   "cell_type": "markdown",
   "metadata": {},
   "source": [
    "### Convert categorical data to numerical format using Label Encoding"
   ]
  },
  {
   "cell_type": "code",
   "execution_count": 11,
   "metadata": {},
   "outputs": [],
   "source": [
    "# Label encoding for categorical columns\n",
    "label_encoders = {}\n",
    "for column in ['planet_type','detection_method']:\n",
    "    encoder = LabelEncoder()\n",
    "    data[column] = encoder.fit_transform(data[column])\n",
    "    label_encoders[column] = encoder"
   ]
  },
  {
   "cell_type": "markdown",
   "metadata": {},
   "source": [
    "### Split data into features and target"
   ]
  },
  {
   "cell_type": "code",
   "execution_count": 12,
   "metadata": {},
   "outputs": [],
   "source": [
    "# Split data into features and target\n",
    "X = data.drop(['planet_type', 'name'], axis=1) # Dropping 'name' as it's not useful for modeling\n",
    "Y = data['planet_type']"
   ]
  },
  {
   "cell_type": "markdown",
   "metadata": {},
   "source": [
    "### Split the data into training and test sets"
   ]
  },
  {
   "cell_type": "code",
   "execution_count": 13,
   "metadata": {},
   "outputs": [],
   "source": [
    "# Train-test split\n",
    "X_train, X_test, Y_train, Y_test = train_test_split(X, Y, test_size=0.2, random_state=42)\n"
   ]
  },
  {
   "cell_type": "code",
   "execution_count": 14,
   "metadata": {},
   "outputs": [
    {
     "name": "stdout",
     "output_type": "stream",
     "text": [
      "Training set shape: (3812, 9) (3812,)\n",
      "Testing set shape: (953, 9) (953,)\n"
     ]
    }
   ],
   "source": [
    "# Output the shapes of the resulting data splits to verify\n",
    "print(\"Training set shape:\", X_train.shape, Y_train.shape)\n",
    "print(\"Testing set shape:\", X_test.shape, Y_test.shape)"
   ]
  },
  {
   "cell_type": "markdown",
   "metadata": {},
   "source": [
    "### Feature Scaling"
   ]
  },
  {
   "cell_type": "code",
   "execution_count": 15,
   "metadata": {},
   "outputs": [],
   "source": [
    "# Identifying constant features\n",
    "constant_features = [col for col in X_train.columns if X_train[col].nunique() == 1]\n",
    "\n",
    "# Dropping constant features (if any)\n",
    "X_train = X_train.drop(columns=constant_features)\n",
    "X_test = X_test.drop(columns=constant_features)\n",
    "\n",
    "# Imputing missing values (if any)\n",
    "imputer = SimpleImputer(strategy='mean')  # or another strategy like 'median'\n",
    "X_train_imputed = imputer.fit_transform(X_train)\n",
    "X_test_imputed = imputer.transform(X_test)\n",
    "\n",
    "# Feature scaling\n",
    "scaler = StandardScaler()\n",
    "X_train_scaled = scaler.fit_transform(X_train_imputed)\n",
    "X_test_scaled = scaler.transform(X_test_imputed)"
   ]
  },
  {
   "cell_type": "markdown",
   "metadata": {},
   "source": [
    "### Handling Imbalanced Data"
   ]
  },
  {
   "cell_type": "code",
   "execution_count": 16,
   "metadata": {},
   "outputs": [
    {
     "name": "stdout",
     "output_type": "stream",
     "text": [
      "1    1338\n",
      "2    1195\n",
      "0    1120\n",
      "3     159\n",
      "Name: planet_type, dtype: int64\n",
      "Smallest class size: 159\n"
     ]
    }
   ],
   "source": [
    "# Count the number of samples in each class\n",
    "class_counts = Y_train.value_counts()\n",
    "print(class_counts)\n",
    "\n",
    "# Find the smallest class size\n",
    "smallest_class_size = class_counts.min()\n",
    "print(\"Smallest class size:\", smallest_class_size)\n",
    "\n",
    "# Setting k_neighbors for SMOTE\n",
    "# Ensure k_neighbors is less than the smallest class size\n",
    "sm = SMOTE(random_state=42, k_neighbors=min(2, smallest_class_size - 1))\n",
    "X_train_res, Y_train_res = sm.fit_resample(X_train_scaled, Y_train)\n"
   ]
  },
  {
   "cell_type": "code",
   "execution_count": 17,
   "metadata": {},
   "outputs": [
    {
     "data": {
      "image/png": "[encoded data removed]",
      "text/plain": [
       "<Figure size 640x480 with 1 Axes>"
      ]
     },
     "metadata": {},
     "output_type": "display_data"
    }
   ],
   "source": [
    "plt.hist(data['orbital_radius_log'], bins=50)\n",
    "plt.xlabel('Orbital Radius (AU)')\n",
    "plt.ylabel('Frequency')\n",
    "plt.title('Distribution of Orbital Radius')\n",
    "plt.show()"
   ]
  },
  {
   "cell_type": "code",
   "execution_count": 18,
   "metadata": {},
   "outputs": [
    {
     "data": {
      "image/png": "[encoded data removed]",
      "text/plain": [
       "<Figure size 640x480 with 1 Axes>"
      ]
     },
     "metadata": {},
     "output_type": "display_data"
    }
   ],
   "source": [
    "plt.hist(data['stellar_magnitude'], bins=50, color='skyblue', edgecolor='black')\n",
    "plt.xlabel('Stellar Magnitude')\n",
    "plt.ylabel('Frequency')\n",
    "plt.title('Distribution of Stellar Magnitude')\n",
    "plt.gca().invert_xaxis()  # Magnitude scale is inverse, brighter stars have lower magnitude\n",
    "plt.show()\n",
    "\n"
   ]
  },
  {
   "cell_type": "code",
   "execution_count": 19,
   "metadata": {},
   "outputs": [
    {
     "data": {
      "image/png": "[encoded data removed]",
      "text/plain": [
       "<Figure size 640x480 with 1 Axes>"
      ]
     },
     "metadata": {},
     "output_type": "display_data"
    }
   ],
   "source": [
    "plt.scatter(data['mass_multiplier'], data['radius_multiplier'], alpha=0.5)\n",
    "plt.xlabel('Mass Multiplier (Jupiter Masses)')\n",
    "plt.ylabel('Radius Multiplier (Jupiter Radii)')\n",
    "plt.title('Mass vs Radius of Exoplanets')\n",
    "plt.show()\n"
   ]
  },
  {
   "cell_type": "code",
   "execution_count": 20,
   "metadata": {},
   "outputs": [
    {
     "data": {
      "image/png": "[encoded data removed]",
      "text/plain": [
       "<Figure size 640x480 with 1 Axes>"
      ]
     },
     "metadata": {},
     "output_type": "display_data"
    }
   ],
   "source": [
    "# Get the unique encoded planet types\n",
    "encoded_planet_types = data['planet_type'].unique()\n",
    "# Get the original planet type names using inverse_transform from the correct encoder\n",
    "planet_type_names = label_encoders['planet_type'].inverse_transform(encoded_planet_types)\n",
    "\n",
    "# Plotting\n",
    "for encoded_planet_type in encoded_planet_types:\n",
    "    subset = data[data['planet_type'] == encoded_planet_type]\n",
    "    plt.boxplot(subset['orbital_period'], positions=[encoded_planet_type], widths=0.6)\n",
    "\n",
    "plt.xlabel('Planet Type')\n",
    "plt.ylabel('Orbital Period (years)')\n",
    "plt.title('Orbital Period Distribution by Planet Type')\n",
    "# Set the x-axis ticks to the unique planet types and label them with the original names\n",
    "plt.xticks(ticks=np.arange(len(encoded_planet_types)), labels=planet_type_names)\n",
    "plt.show()\n",
    "\n"
   ]
  },
  {
   "cell_type": "markdown",
   "metadata": {},
   "source": [
    "## K-nearest neighbours"
   ]
  },
  {
   "cell_type": "markdown",
   "metadata": {},
   "source": [
    "### import libraries"
   ]
  },
  {
   "cell_type": "code",
   "execution_count": 21,
   "metadata": {},
   "outputs": [],
   "source": [
    "from collections import Counter\n",
    "from sklearn.tree import DecisionTreeClassifier\n",
    "from sklearn.metrics import classification_report"
   ]
  },
  {
   "cell_type": "markdown",
   "metadata": {},
   "source": [
    "### Defining functions that will be used for K-nearest neighbours"
   ]
  },
  {
   "cell_type": "code",
   "execution_count": 22,
   "metadata": {},
   "outputs": [],
   "source": [
    "def euclidean_distance(a, b):\n",
    "    return np.sqrt(np.sum((a - b) ** 2))\n",
    "\n",
    "class kNN:\n",
    "    def __init__(self, k=3):\n",
    "        self.k = k\n",
    "\n",
    "    def fit(self, X, y):\n",
    "        self.X_train = X\n",
    "        self.y_train = y\n",
    "\n",
    "    def predict(self, X):\n",
    "        predicted_labels = [self._predict(x) for x in X]\n",
    "        return np.array(predicted_labels)\n",
    "\n",
    "    def _predict(self, x):\n",
    "        # Compute distances between x and all examples in the training set\n",
    "        distances = [euclidean_distance(x, x_train) for x_train in self.X_train]\n",
    "        # Sort by distance and return indices of the first k neighbors\n",
    "        k_indices = np.argsort(distances)[:self.k]\n",
    "        # Extract the labels of the k nearest neighbor training samples\n",
    "        k_nearest_labels = [self.y_train[i] for i in k_indices]\n",
    "        # Return the most common class label\n",
    "        most_common = Counter(k_nearest_labels).most_common(1)\n",
    "        return most_common[0][0]"
   ]
  },
  {
   "cell_type": "code",
   "execution_count": 30,
   "metadata": {},
   "outputs": [],
   "source": [
    "# Convert DataFrame to numpy array\n",
    "X_train_np = X_train.to_numpy()\n",
    "X_test_np = X_test.to_numpy()\n",
    "Y_train_np = Y_train.to_numpy()\n",
    "\n",
    "# Calculate the square root of the number of samples in the training set\n",
    "k = int(np.sqrt(len(X_train_np)))\n",
    "\n",
    "# If k is even, add or subtract 1 because k should be odd to avoid ties\n",
    "if k % 2 == 0:\n",
    "    k += 1\n",
    "\n",
    "# Use numpy arrays for kNN\n",
    "clf = kNN(k=k)\n",
    "clf.fit(X_train_np, Y_train_np) \n",
    "predictions = clf.predict(X_test_np)\n",
    "\n"
   ]
  },
  {
   "cell_type": "code",
   "execution_count": 31,
   "metadata": {},
   "outputs": [
    {
     "name": "stdout",
     "output_type": "stream",
     "text": [
      "kNN model accuracy: 0.5047219307450157\n"
     ]
    }
   ],
   "source": [
    "# To evaluate the model\n",
    "from sklearn.metrics import accuracy_score\n",
    "print(\"kNN model accuracy:\", accuracy_score(Y_test.to_numpy(), predictions))"
   ]
  },
  {
   "cell_type": "code",
   "execution_count": 32,
   "metadata": {},
   "outputs": [
    {
     "name": "stdout",
     "output_type": "stream",
     "text": [
      "Confusion Matrix:\n",
      " [[186  60  69   0]\n",
      " [ 43 189 100   0]\n",
      " [ 41 135 106   0]\n",
      " [  4  10  10   0]]\n",
      "\n",
      "Classification Report:\n",
      "               precision    recall  f1-score   support\n",
      "\n",
      "   Gas Giant       0.68      0.59      0.63       315\n",
      "Neptune-like       0.48      0.57      0.52       332\n",
      " Super Earth       0.37      0.38      0.37       282\n",
      " Terrestrial       0.00      0.00      0.00        24\n",
      "\n",
      "    accuracy                           0.50       953\n",
      "   macro avg       0.38      0.38      0.38       953\n",
      "weighted avg       0.50      0.50      0.50       953\n",
      "\n"
     ]
    },
    {
     "name": "stderr",
     "output_type": "stream",
     "text": [
      "/usr/lib/python3.11/site-packages/sklearn/metrics/_classification.py:1471: UndefinedMetricWarning: Precision and F-score are ill-defined and being set to 0.0 in labels with no predicted samples. Use `zero_division` parameter to control this behavior.\n",
      "  _warn_prf(average, modifier, msg_start, len(result))\n",
      "/usr/lib/python3.11/site-packages/sklearn/metrics/_classification.py:1471: UndefinedMetricWarning: Precision and F-score are ill-defined and being set to 0.0 in labels with no predicted samples. Use `zero_division` parameter to control this behavior.\n",
      "  _warn_prf(average, modifier, msg_start, len(result))\n",
      "/usr/lib/python3.11/site-packages/sklearn/metrics/_classification.py:1471: UndefinedMetricWarning: Precision and F-score are ill-defined and being set to 0.0 in labels with no predicted samples. Use `zero_division` parameter to control this behavior.\n",
      "  _warn_prf(average, modifier, msg_start, len(result))\n"
     ]
    }
   ],
   "source": [
    "from sklearn.metrics import confusion_matrix, classification_report\n",
    "\n",
    "# Generate predictions\n",
    "predictions = clf.predict(X_test_np)\n",
    "\n",
    "# Calculate the confusion matrix\n",
    "conf_matrix = confusion_matrix(Y_test.to_numpy(), predictions)\n",
    "\n",
    "# Generate a classification report\n",
    "class_report = classification_report(Y_test.to_numpy(), predictions, target_names=label_encoders['planet_type'].classes_)\n",
    "\n",
    "print(\"Confusion Matrix:\\n\", conf_matrix)\n",
    "print(\"\\nClassification Report:\\n\", class_report)\n"
   ]
  },
  {
   "cell_type": "code",
   "execution_count": null,
   "metadata": {},
   "outputs": [],
   "source": []
  }
 ],
 "metadata": {
  "kernelspec": {
   "display_name": "Python 3 (ipykernel)",
   "language": "python",
   "name": "python3"
  },
  "language_info": {
   "codemirror_mode": {
    "name": "ipython",
    "version": 3
   },
   "file_extension": ".py",
   "mimetype": "text/x-python",
   "name": "python",
   "nbconvert_exporter": "python",
   "pygments_lexer": "ipython3",
   "version": "3.11.6"
  }
 },
 "nbformat": 4,
 "nbformat_minor": 4
}
